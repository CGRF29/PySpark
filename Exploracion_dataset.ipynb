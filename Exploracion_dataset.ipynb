{
 "cells": [
  {
   "cell_type": "markdown",
   "metadata": {},
   "source": [
    "## PySpark"
   ]
  },
  {
   "cell_type": "markdown",
   "metadata": {},
   "source": [
    "Librerias"
   ]
  },
  {
   "cell_type": "code",
   "execution_count": 37,
   "metadata": {},
   "outputs": [],
   "source": [
    "# Importing SparkSession\n",
    "from pyspark.sql import SparkSession\n",
    "from pyspark.sql.functions import udf\n",
    "import pyspark.sql.functions as F\n",
    "from pyspark.sql.functions import col"
   ]
  },
  {
   "cell_type": "markdown",
   "metadata": {},
   "source": [
    "1. Creación SparkSession"
   ]
  },
  {
   "cell_type": "markdown",
   "metadata": {},
   "source": [
    "Para trabajar con PySpark, primero necesitas crear SparkSession. SparkSession es un punto de entrada a la funcionalidad de PySpark."
   ]
  },
  {
   "cell_type": "code",
   "execution_count": 2,
   "metadata": {},
   "outputs": [],
   "source": [
    "spark=SparkSession.builder.appName('example').getOrCreate()"
   ]
  },
  {
   "cell_type": "markdown",
   "metadata": {},
   "source": [
    "2. Lectura de la base de datos"
   ]
  },
  {
   "cell_type": "markdown",
   "metadata": {},
   "source": [
    "PySpark ofrece dos estructuras principales para almacenar datos cuando se realizan manipulaciones: El RDD y el DataFrame. \n",
    "<br>\n",
    "\n",
    "Puedes pensar en el RDD como una colección distribuida de objetos (o filas). Puedes pensar en el DataFrame como si fuera una tabla."
   ]
  },
  {
   "cell_type": "code",
   "execution_count": 3,
   "metadata": {},
   "outputs": [],
   "source": [
    "df = spark.read.csv('./data/diabetes.csv', header=True, inferSchema=True)"
   ]
  },
  {
   "cell_type": "markdown",
   "metadata": {},
   "source": [
    "3. Conociendo la base de datos"
   ]
  },
  {
   "cell_type": "code",
   "execution_count": 4,
   "metadata": {},
   "outputs": [
    {
     "name": "stdout",
     "output_type": "stream",
     "text": [
      "+-----------+-------+-------------+-------------+-------+----+------------------------+---+-------+\n",
      "|Pregnancies|Glucose|BloodPressure|SkinThickness|Insulin| BMI|DiabetesPedigreeFunction|Age|Outcome|\n",
      "+-----------+-------+-------------+-------------+-------+----+------------------------+---+-------+\n",
      "|          6|    148|           72|           35|      0|33.6|                   0.627| 50|      1|\n",
      "|          1|     85|           66|           29|      0|26.6|                   0.351| 31|      0|\n",
      "|          8|    183|           64|            0|      0|23.3|                   0.672| 32|      1|\n",
      "|          1|     89|           66|           23|     94|28.1|                   0.167| 21|      0|\n",
      "|          0|    137|           40|           35|    168|43.1|                   2.288| 33|      1|\n",
      "|          5|    116|           74|            0|      0|25.6|                   0.201| 30|      0|\n",
      "|          3|     78|           50|           32|     88|31.0|                   0.248| 26|      1|\n",
      "|         10|    115|            0|            0|      0|35.3|                   0.134| 29|      0|\n",
      "|          2|    197|           70|           45|    543|30.5|                   0.158| 53|      1|\n",
      "|          8|    125|           96|            0|      0| 0.0|                   0.232| 54|      1|\n",
      "+-----------+-------+-------------+-------------+-------+----+------------------------+---+-------+\n",
      "only showing top 10 rows\n",
      "\n"
     ]
    }
   ],
   "source": [
    "# looking at the first rows the dataset\n",
    "df.show(10)"
   ]
  },
  {
   "cell_type": "code",
   "execution_count": 5,
   "metadata": {},
   "outputs": [
    {
     "data": {
      "text/plain": [
       "['Pregnancies',\n",
       " 'Glucose',\n",
       " 'BloodPressure',\n",
       " 'SkinThickness',\n",
       " 'Insulin',\n",
       " 'BMI',\n",
       " 'DiabetesPedigreeFunction',\n",
       " 'Age',\n",
       " 'Outcome']"
      ]
     },
     "execution_count": 5,
     "metadata": {},
     "output_type": "execute_result"
    }
   ],
   "source": [
    "# Columns of dataframe\n",
    "df.columns"
   ]
  },
  {
   "cell_type": "markdown",
   "metadata": {},
   "source": [
    "Puede utilizar el método **count** para obtener el número total de registros en el Dataframe. \n",
    "<br>\n",
    "\n",
    "El método **len** permite ver el número de columnas del DataFrame. Echemos un vistazo a la forma de nuestro conjunto de datos con los métodos count y len."
   ]
  },
  {
   "cell_type": "code",
   "execution_count": 6,
   "metadata": {},
   "outputs": [
    {
     "name": "stdout",
     "output_type": "stream",
     "text": [
      "(768, 9)\n"
     ]
    }
   ],
   "source": [
    "# Shape of dataset\n",
    "print((df.count(),len(df.columns)))"
   ]
  },
  {
   "cell_type": "markdown",
   "metadata": {},
   "source": [
    "Para obtener la información del esquema del conjunto de datos, puede utilizar el método **printSchema** que a menudo se utiliza para comprender los datos con el método **show** en el análisis de datos."
   ]
  },
  {
   "cell_type": "code",
   "execution_count": 7,
   "metadata": {},
   "outputs": [
    {
     "name": "stdout",
     "output_type": "stream",
     "text": [
      "root\n",
      " |-- Pregnancies: integer (nullable = true)\n",
      " |-- Glucose: integer (nullable = true)\n",
      " |-- BloodPressure: integer (nullable = true)\n",
      " |-- SkinThickness: integer (nullable = true)\n",
      " |-- Insulin: integer (nullable = true)\n",
      " |-- BMI: double (nullable = true)\n",
      " |-- DiabetesPedigreeFunction: double (nullable = true)\n",
      " |-- Age: integer (nullable = true)\n",
      " |-- Outcome: integer (nullable = true)\n",
      "\n"
     ]
    }
   ],
   "source": [
    "# printSchema\n",
    "df.printSchema()"
   ]
  },
  {
   "cell_type": "markdown",
   "metadata": {},
   "source": [
    "Puede utilizar **describe().show()** para echar un vistazo a las estadísticas de descripción del conjunto de datos. Voy a utilizar el parámetro truncar para ver sólo 8 caracteres."
   ]
  },
  {
   "cell_type": "code",
   "execution_count": 8,
   "metadata": {},
   "outputs": [
    {
     "name": "stdout",
     "output_type": "stream",
     "text": [
      "+-------+------------------+-----------------+------------------+------------------+------------------+------------------+------------------------+------------------+------------------+\n",
      "|summary|       Pregnancies|          Glucose|     BloodPressure|     SkinThickness|           Insulin|               BMI|DiabetesPedigreeFunction|               Age|           Outcome|\n",
      "+-------+------------------+-----------------+------------------+------------------+------------------+------------------+------------------------+------------------+------------------+\n",
      "|  count|               768|              768|               768|               768|               768|               768|                     768|               768|               768|\n",
      "|   mean|3.8450520833333335|     120.89453125|       69.10546875|20.536458333333332| 79.79947916666667|31.992578124999977|      0.4718763020833327|33.240885416666664|0.3489583333333333|\n",
      "| stddev|  3.36957806269887|31.97261819513622|19.355807170644777|15.952217567727642|115.24400235133803| 7.884160320375441|       0.331328595012775|11.760231540678689| 0.476951377242799|\n",
      "|    min|                 0|                0|                 0|                 0|                 0|               0.0|                   0.078|                21|                 0|\n",
      "|    max|                17|              199|               122|                99|               846|              67.1|                    2.42|                81|                 1|\n",
      "+-------+------------------+-----------------+------------------+------------------+------------------+------------------+------------------------+------------------+------------------+\n",
      "\n"
     ]
    }
   ],
   "source": [
    "# description statistics\n",
    "df.describe().show()"
   ]
  },
  {
   "cell_type": "code",
   "execution_count": 9,
   "metadata": {},
   "outputs": [
    {
     "name": "stdout",
     "output_type": "stream",
     "text": [
      "+-------+-----------+--------+-------------+-------------+--------+--------+------------------------+--------+--------+\n",
      "|summary|Pregnancies| Glucose|BloodPressure|SkinThickness| Insulin|     BMI|DiabetesPedigreeFunction|     Age| Outcome|\n",
      "+-------+-----------+--------+-------------+-------------+--------+--------+------------------------+--------+--------+\n",
      "|  count|        768|     768|          768|          768|     768|     768|                     768|     768|     768|\n",
      "|   mean|   3.845...|120.8...|     69.10...|     20.53...|79.79...|31.99...|                0.471...|33.24...|0.348...|\n",
      "| stddev|   3.369...|31.97...|     19.35...|     15.95...|115.2...|7.884...|                0.331...|11.76...|0.476...|\n",
      "|    min|          0|       0|            0|            0|       0|     0.0|                   0.078|      21|       0|\n",
      "|    max|         17|     199|          122|           99|     846|    67.1|                    2.42|      81|       1|\n",
      "+-------+-----------+--------+-------------+-------------+--------+--------+------------------------+--------+--------+\n",
      "\n"
     ]
    }
   ],
   "source": [
    "df.describe().show(truncate=8)"
   ]
  },
  {
   "cell_type": "markdown",
   "metadata": {},
   "source": [
    "4. Selección de columnas"
   ]
  },
  {
   "cell_type": "markdown",
   "metadata": {},
   "source": [
    "Puede utilizar el método **select** para seleccionar columnas específicas. Tomemos las columnas 'Pregnancies' y 'Age' del conjunto de datos con el método select."
   ]
  },
  {
   "cell_type": "code",
   "execution_count": 10,
   "metadata": {},
   "outputs": [
    {
     "name": "stdout",
     "output_type": "stream",
     "text": [
      "+-----------+---+\n",
      "|Pregnancies|Age|\n",
      "+-----------+---+\n",
      "|          6| 50|\n",
      "|          1| 31|\n",
      "|          8| 32|\n",
      "|          1| 21|\n",
      "|          0| 33|\n",
      "|          5| 30|\n",
      "|          3| 26|\n",
      "|         10| 29|\n",
      "|          2| 53|\n",
      "|          8| 54|\n",
      "+-----------+---+\n",
      "only showing top 10 rows\n",
      "\n"
     ]
    }
   ],
   "source": [
    "# Selecting\n",
    "df.select(\"Pregnancies\", \"Age\").show(10)"
   ]
  },
  {
   "cell_type": "markdown",
   "metadata": {},
   "source": [
    "También puedes utilizar la función col del módulo **pyspark.sql.functions** para seleccionar columnas. Permítanme mostrarles."
   ]
  },
  {
   "cell_type": "code",
   "execution_count": 11,
   "metadata": {},
   "outputs": [
    {
     "name": "stdout",
     "output_type": "stream",
     "text": [
      "+-----------+---+\n",
      "|Pregnancies|Age|\n",
      "+-----------+---+\n",
      "|          6| 50|\n",
      "|          1| 31|\n",
      "|          8| 32|\n",
      "|          1| 21|\n",
      "|          0| 33|\n",
      "|          5| 30|\n",
      "|          3| 26|\n",
      "|         10| 29|\n",
      "|          2| 53|\n",
      "|          8| 54|\n",
      "+-----------+---+\n",
      "only showing top 10 rows\n",
      "\n"
     ]
    }
   ],
   "source": [
    "# Selecting the col method\n",
    "df.select(F.col(\"Pregnancies\"), F.col(\"Age\")).show(10)"
   ]
  },
  {
   "cell_type": "markdown",
   "metadata": {},
   "source": [
    "5. Data Filtering"
   ]
  },
  {
   "cell_type": "markdown",
   "metadata": {},
   "source": [
    "Para limpiar el conjunto de datos y mantener sólo los registros que desea, puede realizar para filtrar los registros basados en condiciones. Existen dos métodos para filtrar datos: **filter()** y **where()**. "
   ]
  },
  {
   "cell_type": "markdown",
   "metadata": {},
   "source": [
    "Vamos a filtrar los datos en los que el valor de la columna 'Age' es inferior a 40 con el método **filter**."
   ]
  },
  {
   "cell_type": "code",
   "execution_count": 12,
   "metadata": {},
   "outputs": [
    {
     "name": "stdout",
     "output_type": "stream",
     "text": [
      "+-----------+-------+-------------+-------------+-------+----+------------------------+---+-------+\n",
      "|Pregnancies|Glucose|BloodPressure|SkinThickness|Insulin| BMI|DiabetesPedigreeFunction|Age|Outcome|\n",
      "+-----------+-------+-------------+-------------+-------+----+------------------------+---+-------+\n",
      "|          1|     85|           66|           29|      0|26.6|                   0.351| 31|      0|\n",
      "|          8|    183|           64|            0|      0|23.3|                   0.672| 32|      1|\n",
      "|          1|     89|           66|           23|     94|28.1|                   0.167| 21|      0|\n",
      "|          0|    137|           40|           35|    168|43.1|                   2.288| 33|      1|\n",
      "|          5|    116|           74|            0|      0|25.6|                   0.201| 30|      0|\n",
      "|          3|     78|           50|           32|     88|31.0|                   0.248| 26|      1|\n",
      "|         10|    115|            0|            0|      0|35.3|                   0.134| 29|      0|\n",
      "|          4|    110|           92|            0|      0|37.6|                   0.191| 30|      0|\n",
      "|         10|    168|           74|            0|      0|38.0|                   0.537| 34|      1|\n",
      "|          7|    100|            0|            0|      0|30.0|                   0.484| 32|      1|\n",
      "+-----------+-------+-------------+-------------+-------+----+------------------------+---+-------+\n",
      "only showing top 10 rows\n",
      "\n"
     ]
    }
   ],
   "source": [
    "# Filtering\n",
    "df.filter(df['Age'] < 40).show(10)"
   ]
  },
  {
   "cell_type": "markdown",
   "metadata": {},
   "source": [
    "Puede realizar más filtros utilizando el método de selección para ver sólo columnas específicas."
   ]
  },
  {
   "cell_type": "code",
   "execution_count": 13,
   "metadata": {},
   "outputs": [
    {
     "name": "stdout",
     "output_type": "stream",
     "text": [
      "+-------+-------+\n",
      "|Insulin|Outcome|\n",
      "+-------+-------+\n",
      "|      0|      0|\n",
      "|      0|      1|\n",
      "|     94|      0|\n",
      "|    168|      1|\n",
      "|      0|      0|\n",
      "|     88|      1|\n",
      "|      0|      0|\n",
      "|      0|      0|\n",
      "|      0|      1|\n",
      "|      0|      1|\n",
      "+-------+-------+\n",
      "only showing top 10 rows\n",
      "\n"
     ]
    }
   ],
   "source": [
    "# Filtering for two columns\n",
    "df.filter(df['age'] < 40).select('Insulin','Outcome').show(10)"
   ]
  },
  {
   "cell_type": "markdown",
   "metadata": {},
   "source": [
    "También puede aplicar filtros a los registros en función de las condiciones. Busquemos registros con edad superior a 60 años y personas que sólo estén enfermas."
   ]
  },
  {
   "cell_type": "code",
   "execution_count": 14,
   "metadata": {},
   "outputs": [
    {
     "name": "stdout",
     "output_type": "stream",
     "text": [
      "+-----------+-------+-------------+-------------+-------+----+------------------------+---+-------+\n",
      "|Pregnancies|Glucose|BloodPressure|SkinThickness|Insulin| BMI|DiabetesPedigreeFunction|Age|Outcome|\n",
      "+-----------+-------+-------------+-------------+-------+----+------------------------+---+-------+\n",
      "|          4|    146|           92|            0|      0|31.2|                   0.539| 61|      1|\n",
      "|          0|    105|           84|            0|      0|27.9|                   0.741| 62|      1|\n",
      "|          2|    158|           90|            0|      0|31.6|                   0.805| 66|      1|\n",
      "|          4|    146|           78|            0|      0|38.5|                    0.52| 67|      1|\n",
      "|          2|    197|           70|           99|      0|34.7|                   0.575| 62|      1|\n",
      "|          4|    145|           82|           18|      0|32.5|                   0.235| 70|      1|\n",
      "|          6|    190|           92|            0|      0|35.5|                   0.278| 66|      1|\n",
      "+-----------+-------+-------------+-------------+-------+----+------------------------+---+-------+\n",
      "\n"
     ]
    }
   ],
   "source": [
    "# Filtering with multiple conditions\n",
    "df.filter(df['age'] > 60).filter(df['Outcome'] == '1').show(10)"
   ]
  },
  {
   "cell_type": "markdown",
   "metadata": {},
   "source": [
    "Puede utilizar operadores como **&** y el signo **|** para aplicar múltiples condiciones de filtrado. "
   ]
  },
  {
   "cell_type": "markdown",
   "metadata": {},
   "source": [
    "Filtremos las personas enfermas y con 10 o más embarazos utilizando **&**."
   ]
  },
  {
   "cell_type": "code",
   "execution_count": 15,
   "metadata": {},
   "outputs": [
    {
     "name": "stdout",
     "output_type": "stream",
     "text": [
      "+-----------+-------+-------------+-------------+-------+----+------------------------+---+-------+\n",
      "|Pregnancies|Glucose|BloodPressure|SkinThickness|Insulin| BMI|DiabetesPedigreeFunction|Age|Outcome|\n",
      "+-----------+-------+-------------+-------------+-------+----+------------------------+---+-------+\n",
      "|         10|    168|           74|            0|      0|38.0|                   0.537| 34|      1|\n",
      "|          9|    119|           80|           35|      0|29.0|                   0.263| 29|      1|\n",
      "|         11|    143|           94|           33|    146|36.6|                   0.254| 51|      1|\n",
      "|         10|    125|           70|           26|    115|31.1|                   0.205| 41|      1|\n",
      "|          9|    102|           76|           37|      0|32.9|                   0.665| 46|      1|\n",
      "|          9|    171|          110|           24|    240|45.4|                   0.721| 54|      1|\n",
      "|         13|    126|           90|            0|      0|43.4|                   0.583| 42|      1|\n",
      "|         15|    136|           70|           32|    110|37.1|                   0.153| 43|      1|\n",
      "|          9|    122|           56|            0|      0|33.3|                   1.114| 33|      1|\n",
      "|         10|    108|           66|            0|      0|32.4|                   0.272| 42|      1|\n",
      "+-----------+-------+-------------+-------------+-------+----+------------------------+---+-------+\n",
      "only showing top 10 rows\n",
      "\n"
     ]
    }
   ],
   "source": [
    "# Filtering with multiple conditions\n",
    "df.filter((df['Outcome']==1) & (df['Pregnancies'] >=9)).show(10)"
   ]
  },
  {
   "cell_type": "markdown",
   "metadata": {},
   "source": [
    "Para obtener un recuento del número de registros después del filtrado, puede utilizar el método **count**."
   ]
  },
  {
   "cell_type": "code",
   "execution_count": 16,
   "metadata": {},
   "outputs": [
    {
     "data": {
      "text/plain": [
       "194"
      ]
     },
     "execution_count": 16,
     "metadata": {},
     "output_type": "execute_result"
    }
   ],
   "source": [
    "# Counting after filtering\n",
    "df.filter(df['age']>40).count()"
   ]
  },
  {
   "cell_type": "markdown",
   "metadata": {},
   "source": [
    "Puedes filtrar datos el método **where** como el método **filter**. Déjame mostrarte."
   ]
  },
  {
   "cell_type": "code",
   "execution_count": 17,
   "metadata": {},
   "outputs": [
    {
     "name": "stdout",
     "output_type": "stream",
     "text": [
      "+-----------+-------+-------------+-------------+-------+----+------------------------+---+-------+\n",
      "|Pregnancies|Glucose|BloodPressure|SkinThickness|Insulin| BMI|DiabetesPedigreeFunction|Age|Outcome|\n",
      "+-----------+-------+-------------+-------------+-------+----+------------------------+---+-------+\n",
      "|         10|    168|           74|            0|      0|38.0|                   0.537| 34|      1|\n",
      "|          9|    119|           80|           35|      0|29.0|                   0.263| 29|      1|\n",
      "|         11|    143|           94|           33|    146|36.6|                   0.254| 51|      1|\n",
      "|         10|    125|           70|           26|    115|31.1|                   0.205| 41|      1|\n",
      "|          9|    102|           76|           37|      0|32.9|                   0.665| 46|      1|\n",
      "|          9|    171|          110|           24|    240|45.4|                   0.721| 54|      1|\n",
      "|         13|    126|           90|            0|      0|43.4|                   0.583| 42|      1|\n",
      "|         15|    136|           70|           32|    110|37.1|                   0.153| 43|      1|\n",
      "|          9|    122|           56|            0|      0|33.3|                   1.114| 33|      1|\n",
      "|         10|    108|           66|            0|      0|32.4|                   0.272| 42|      1|\n",
      "+-----------+-------+-------------+-------------+-------+----+------------------------+---+-------+\n",
      "only showing top 10 rows\n",
      "\n"
     ]
    }
   ],
   "source": [
    "# Filtering with the where method\n",
    "df.where((df['Outcome']==1) & (df['Pregnancies'] >=9)).show(10)"
   ]
  },
  {
   "cell_type": "code",
   "execution_count": 20,
   "metadata": {},
   "outputs": [
    {
     "data": {
      "text/plain": [
       "194"
      ]
     },
     "execution_count": 20,
     "metadata": {},
     "output_type": "execute_result"
    }
   ],
   "source": [
    "# Filtering the where method\n",
    "df.where(df['age']>40).count()"
   ]
  },
  {
   "cell_type": "markdown",
   "metadata": {},
   "source": [
    "6. Añadir una nueva columna"
   ]
  },
  {
   "cell_type": "markdown",
   "metadata": {},
   "source": [
    "Puedes utilizar el método **withColumn** para añadir una nueva columna. Vamos a crear una nueva columna utilizando la columna de edad. Para ello, voy a añadir los valores de edad a diez valor.\n"
   ]
  },
  {
   "cell_type": "code",
   "execution_count": 21,
   "metadata": {},
   "outputs": [
    {
     "name": "stdout",
     "output_type": "stream",
     "text": [
      "+-----------+-------+-------------+-------------+-------+----+------------------------+---+-------+-------+\n",
      "|Pregnancies|Glucose|BloodPressure|SkinThickness|Insulin| BMI|DiabetesPedigreeFunction|Age|Outcome|New_Age|\n",
      "+-----------+-------+-------------+-------------+-------+----+------------------------+---+-------+-------+\n",
      "|          6|    148|           72|           35|      0|33.6|                   0.627| 50|      1|     60|\n",
      "|          1|     85|           66|           29|      0|26.6|                   0.351| 31|      0|     41|\n",
      "|          8|    183|           64|            0|      0|23.3|                   0.672| 32|      1|     42|\n",
      "|          1|     89|           66|           23|     94|28.1|                   0.167| 21|      0|     31|\n",
      "|          0|    137|           40|           35|    168|43.1|                   2.288| 33|      1|     43|\n",
      "|          5|    116|           74|            0|      0|25.6|                   0.201| 30|      0|     40|\n",
      "|          3|     78|           50|           32|     88|31.0|                   0.248| 26|      1|     36|\n",
      "|         10|    115|            0|            0|      0|35.3|                   0.134| 29|      0|     39|\n",
      "|          2|    197|           70|           45|    543|30.5|                   0.158| 53|      1|     63|\n",
      "|          8|    125|           96|            0|      0| 0.0|                   0.232| 54|      1|     64|\n",
      "+-----------+-------+-------------+-------------+-------+----+------------------------+---+-------+-------+\n",
      "only showing top 10 rows\n",
      "\n"
     ]
    }
   ],
   "source": [
    "# Creating a new column\n",
    "df.withColumn('New_Age',df['age']+10).show(10)"
   ]
  },
  {
   "cell_type": "markdown",
   "metadata": {},
   "source": [
    "7. Agrupamiento de los datos"
   ]
  },
  {
   "cell_type": "markdown",
   "metadata": {},
   "source": [
    "Cuando trabajamos con grandes cantidades de datos, a menudo utilizamos el método **groupBy** para resumir los datos. Después de agrupar los datos, puede aplicar una función de agregación en cada uno de ellos. Veamos el número de suma de cada valor categórico de la columna resultado."
   ]
  },
  {
   "cell_type": "code",
   "execution_count": 22,
   "metadata": {},
   "outputs": [
    {
     "name": "stdout",
     "output_type": "stream",
     "text": [
      "+-------+-----+\n",
      "|Outcome|count|\n",
      "+-------+-----+\n",
      "|      1|  268|\n",
      "|      0|  500|\n",
      "+-------+-----+\n",
      "\n"
     ]
    }
   ],
   "source": [
    "# Grouping data\n",
    "df.groupBy('Outcome').count().show()"
   ]
  },
  {
   "cell_type": "markdown",
   "metadata": {},
   "source": [
    "También puede utilizar los métodos **distinct** y **count** para encontrar valores distintos en una columna. "
   ]
  },
  {
   "cell_type": "code",
   "execution_count": 23,
   "metadata": {},
   "outputs": [
    {
     "data": {
      "text/plain": [
       "17"
      ]
     },
     "execution_count": 23,
     "metadata": {},
     "output_type": "execute_result"
    }
   ],
   "source": [
    "# Finding distinct values\n",
    "df.select('Pregnancies').distinct().count()"
   ]
  },
  {
   "cell_type": "markdown",
   "metadata": {},
   "source": [
    "Puede utilizar otras funciones de agregación como la suma, la media o el mínimo. Busquemos la media de la edad después de agrupar la columna de resultados. Observe que se utiliza el método alias para dar nombre a la nueva columna."
   ]
  },
  {
   "cell_type": "code",
   "execution_count": 24,
   "metadata": {},
   "outputs": [
    {
     "name": "stdout",
     "output_type": "stream",
     "text": [
      "+-------+-----------------+\n",
      "|Outcome|         age_mean|\n",
      "+-------+-----------------+\n",
      "|      1|37.06716417910448|\n",
      "|      0|            31.19|\n",
      "+-------+-----------------+\n",
      "\n"
     ]
    }
   ],
   "source": [
    "# Applying the aggregate functions\n",
    "df.groupBy('Outcome').agg(F.mean(\"age\").alias(\"age_mean\")).show(10)"
   ]
  },
  {
   "cell_type": "markdown",
   "metadata": {},
   "source": [
    "8. Implementación de Funciones"
   ]
  },
  {
   "cell_type": "code",
   "execution_count": 25,
   "metadata": {},
   "outputs": [],
   "source": [
    "# Creating a function\n",
    "def diabete(case):\n",
    "    if case == 1 :\n",
    "        return \"diabete\"\n",
    "    else:\n",
    "        return 'no diabete'"
   ]
  },
  {
   "cell_type": "markdown",
   "metadata": {},
   "source": [
    "Ahora vamos a declarar el UDF y su tipo de retorno (StringType en este ejemplo). Después de eso, se utilizará **withColumn** para crear una nueva columna y luego pasar la columna Dataframe relevante (Outcome):"
   ]
  },
  {
   "cell_type": "code",
   "execution_count": null,
   "metadata": {},
   "outputs": [],
   "source": [
    "diabete_udf = F.udf(diabete, StringType())\n",
    "df.withColumn(\"diabete_case\", diabete_udf(col(\"Outcome\"))).show(10)"
   ]
  },
  {
   "cell_type": "markdown",
   "metadata": {},
   "source": [
    "9. Eliminación de datos"
   ]
  },
  {
   "cell_type": "markdown",
   "metadata": {},
   "source": [
    "Para borrar una columna o múltiples columnas, puedes usar el método **drop** en PySpark. "
   ]
  },
  {
   "cell_type": "code",
   "execution_count": 27,
   "metadata": {},
   "outputs": [
    {
     "name": "stdout",
     "output_type": "stream",
     "text": [
      "+-----------+-------+-------------+-------------+----+------------------------+---+-------+\n",
      "|Pregnancies|Glucose|BloodPressure|SkinThickness| BMI|DiabetesPedigreeFunction|Age|Outcome|\n",
      "+-----------+-------+-------------+-------------+----+------------------------+---+-------+\n",
      "|          6|    148|           72|           35|33.6|                   0.627| 50|      1|\n",
      "|          1|     85|           66|           29|26.6|                   0.351| 31|      0|\n",
      "|          8|    183|           64|            0|23.3|                   0.672| 32|      1|\n",
      "|          1|     89|           66|           23|28.1|                   0.167| 21|      0|\n",
      "|          0|    137|           40|           35|43.1|                   2.288| 33|      1|\n",
      "|          5|    116|           74|            0|25.6|                   0.201| 30|      0|\n",
      "|          3|     78|           50|           32|31.0|                   0.248| 26|      1|\n",
      "|         10|    115|            0|            0|35.3|                   0.134| 29|      0|\n",
      "|          2|    197|           70|           45|30.5|                   0.158| 53|      1|\n",
      "|          8|    125|           96|            0| 0.0|                   0.232| 54|      1|\n",
      "+-----------+-------+-------------+-------------+----+------------------------+---+-------+\n",
      "only showing top 10 rows\n",
      "\n"
     ]
    }
   ],
   "source": [
    "# Deleting a column\n",
    "df.drop('Insulin').show(10)"
   ]
  },
  {
   "cell_type": "markdown",
   "metadata": {},
   "source": [
    "Para eliminar los registros duplicados del Dataframe, puede utilizar el método **dropDuplicates**."
   ]
  },
  {
   "cell_type": "code",
   "execution_count": 28,
   "metadata": {},
   "outputs": [
    {
     "name": "stdout",
     "output_type": "stream",
     "text": [
      "The number of records:  768\n",
      "The number of records after removing the duplicate :  768\n"
     ]
    }
   ],
   "source": [
    "# Deleting the duplicate records\n",
    "print(\"The number of records: \", df.count())\n",
    "df=df.dropDuplicates()\n",
    "print(\"The number of records after removing the duplicate : \", df.count())"
   ]
  },
  {
   "cell_type": "markdown",
   "metadata": {},
   "source": [
    "10. Guardar datos"
   ]
  },
  {
   "cell_type": "markdown",
   "metadata": {},
   "source": [
    "Después de manipular los datos, a menudo querrá exportar los resultados. Puede escribir el Dataframe limpio en una ubicación deseada en el formato requerido con el método **write**."
   ]
  },
  {
   "cell_type": "code",
   "execution_count": null,
   "metadata": {},
   "outputs": [],
   "source": [
    "# Exporting data\n",
    "df.write.csv(\"./data/my_dataset.csv\",header=True, mode=\"overwrite\")"
   ]
  },
  {
   "cell_type": "markdown",
   "metadata": {},
   "source": [
    "Como puede ver, esta carpeta incluye muchas particiones. Para reducir el número de particiones, puede utilizar el método coalesce con el número deseado de particiones."
   ]
  },
  {
   "cell_type": "markdown",
   "metadata": {},
   "source": [
    "Usar coalesce(1) es una buena práctica cuando deseas guardar tu DataFrame en un solo archivo en lugar de múltiples archivos, que es el comportamiento predeterminado en PySpark."
   ]
  },
  {
   "cell_type": "code",
   "execution_count": null,
   "metadata": {},
   "outputs": [],
   "source": [
    "# Exporting data\n",
    "df.coalesce(1).write.csv(\"./data/my_single_partition.csv\")"
   ]
  }
 ],
 "metadata": {
  "kernelspec": {
   "display_name": "Pyspark",
   "language": "python",
   "name": "python3"
  },
  "language_info": {
   "codemirror_mode": {
    "name": "ipython",
    "version": 3
   },
   "file_extension": ".py",
   "mimetype": "text/x-python",
   "name": "python",
   "nbconvert_exporter": "python",
   "pygments_lexer": "ipython3",
   "version": "3.10.14"
  }
 },
 "nbformat": 4,
 "nbformat_minor": 2
}
